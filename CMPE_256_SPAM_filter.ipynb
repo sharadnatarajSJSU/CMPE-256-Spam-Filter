{
  "nbformat": 4,
  "nbformat_minor": 0,
  "metadata": {
    "colab": {
      "name": "CMPE 256 SPAM filter",
      "provenance": [],
      "authorship_tag": "ABX9TyPbvomIZTP6t/Oar1g4vQ0x",
      "include_colab_link": true
    },
    "kernelspec": {
      "name": "python3",
      "display_name": "Python 3"
    },
    "language_info": {
      "name": "python"
    }
  },
  "cells": [
    {
      "cell_type": "markdown",
      "metadata": {
        "id": "view-in-github",
        "colab_type": "text"
      },
      "source": [
        "<a href=\"https://colab.research.google.com/github/sharadnatarajSJSU/CMPE-256-Spam-Filter/blob/main/CMPE_256_SPAM_filter.ipynb\" target=\"_parent\"><img src=\"https://colab.research.google.com/assets/colab-badge.svg\" alt=\"Open In Colab\"/></a>"
      ]
    },
    {
      "cell_type": "code",
      "metadata": {
        "id": "8sAfLGcbYOpn"
      },
      "source": [
        "import numpy as np\n",
        "import pandas as pd\n",
        "import math"
      ],
      "execution_count": 54,
      "outputs": []
    },
    {
      "cell_type": "code",
      "metadata": {
        "id": "5Fa0bsMvYXvM"
      },
      "source": [
        "spam_dict = {'Free':0,'Click here':1,'visit':2,'open attachment':3,'call this number':4,'money':5,'out':6,'extra':7,'offer':8,'available':9,'pension':10,'opportunity':11,'chance':12,'investment':13}"
      ],
      "execution_count": 55,
      "outputs": []
    },
    {
      "cell_type": "code",
      "metadata": {
        "colab": {
          "base_uri": "https://localhost:8080/"
        },
        "id": "N0oOE8wEdInl",
        "outputId": "17dd2172-1777-4f1d-8a47-bd55e6c34dd7"
      },
      "source": [
        "print(spam_dict)"
      ],
      "execution_count": 56,
      "outputs": [
        {
          "output_type": "stream",
          "name": "stdout",
          "text": [
            "{'Free': 0, 'Click here': 1, 'visit': 2, 'open attachment': 3, 'call this number': 4, 'money': 5, 'out': 6, 'extra': 7, 'offer': 8, 'available': 9, 'pension': 10, 'opportunity': 11, 'chance': 12, 'investment': 13}\n"
          ]
        }
      ]
    },
    {
      "cell_type": "code",
      "metadata": {
        "id": "gKs6_-KIZZBu"
      },
      "source": [
        "df1 = pd.read_csv('/content/Emails - Sheet1.csv')"
      ],
      "execution_count": 57,
      "outputs": []
    },
    {
      "cell_type": "code",
      "metadata": {
        "colab": {
          "base_uri": "https://localhost:8080/"
        },
        "id": "ryvProUlarcS",
        "outputId": "aafcbafb-7424-42d6-bc45-c15712a9cf55"
      },
      "source": [
        "df1.shape"
      ],
      "execution_count": 58,
      "outputs": [
        {
          "output_type": "execute_result",
          "data": {
            "text/plain": [
              "(10, 3)"
            ]
          },
          "metadata": {},
          "execution_count": 58
        }
      ]
    },
    {
      "cell_type": "markdown",
      "metadata": {
        "id": "MqI1XVtlbp59"
      },
      "source": [
        "isolating the email messages."
      ]
    },
    {
      "cell_type": "code",
      "metadata": {
        "id": "1IspUEyPbjAS"
      },
      "source": [
        "docs=df1.iloc[:,2]"
      ],
      "execution_count": 59,
      "outputs": []
    },
    {
      "cell_type": "code",
      "metadata": {
        "id": "lKh4bVZXbFKh"
      },
      "source": [
        "from sklearn.feature_extraction.text import TfidfVectorizer"
      ],
      "execution_count": 62,
      "outputs": []
    },
    {
      "cell_type": "code",
      "metadata": {
        "id": "ab7kw1TAbc1-"
      },
      "source": [
        "vectorizer = TfidfVectorizer(vocabulary=spam_dict)"
      ],
      "execution_count": 63,
      "outputs": []
    },
    {
      "cell_type": "code",
      "metadata": {
        "id": "LCBE5o9JcKjA"
      },
      "source": [
        "X = vectorizer.fit_transform(docs)"
      ],
      "execution_count": 64,
      "outputs": []
    },
    {
      "cell_type": "code",
      "metadata": {
        "colab": {
          "base_uri": "https://localhost:8080/"
        },
        "id": "fD3QvlLzgP2n",
        "outputId": "4b4cbc8b-fec1-420f-b2cb-a75640df10b9"
      },
      "source": [
        "print(X)"
      ],
      "execution_count": 65,
      "outputs": [
        {
          "output_type": "stream",
          "name": "stdout",
          "text": [
            "  (2, 10)\t0.8944271909999159\n",
            "  (2, 6)\t0.4472135954999579\n",
            "  (4, 12)\t0.3779644730092272\n",
            "  (4, 11)\t0.3779644730092272\n",
            "  (4, 7)\t0.7559289460184544\n",
            "  (4, 5)\t0.3779644730092272\n",
            "  (5, 13)\t0.7071067811865475\n",
            "  (5, 8)\t0.7071067811865475\n"
          ]
        }
      ]
    },
    {
      "cell_type": "code",
      "metadata": {
        "colab": {
          "base_uri": "https://localhost:8080/"
        },
        "id": "CsRCCkhCcPPO",
        "outputId": "7b721f02-0728-472f-ee29-5570f6545a15"
      },
      "source": [
        "from scipy.sparse import csr_matrix\n",
        "X=csr_matrix(X).toarray()\n",
        "X"
      ],
      "execution_count": 74,
      "outputs": [
        {
          "output_type": "execute_result",
          "data": {
            "text/plain": [
              "array([[0.        , 0.        , 0.        , 0.        , 0.        ,\n",
              "        0.        , 0.        , 0.        , 0.        , 0.        ,\n",
              "        0.        , 0.        , 0.        , 0.        ],\n",
              "       [0.        , 0.        , 0.        , 0.        , 0.        ,\n",
              "        0.        , 0.        , 0.        , 0.        , 0.        ,\n",
              "        0.        , 0.        , 0.        , 0.        ],\n",
              "       [0.        , 0.        , 0.        , 0.        , 0.        ,\n",
              "        0.        , 0.4472136 , 0.        , 0.        , 0.        ,\n",
              "        0.89442719, 0.        , 0.        , 0.        ],\n",
              "       [0.        , 0.        , 0.        , 0.        , 0.        ,\n",
              "        0.        , 0.        , 0.        , 0.        , 0.        ,\n",
              "        0.        , 0.        , 0.        , 0.        ],\n",
              "       [0.        , 0.        , 0.        , 0.        , 0.        ,\n",
              "        0.37796447, 0.        , 0.75592895, 0.        , 0.        ,\n",
              "        0.        , 0.37796447, 0.37796447, 0.        ],\n",
              "       [0.        , 0.        , 0.        , 0.        , 0.        ,\n",
              "        0.        , 0.        , 0.        , 0.70710678, 0.        ,\n",
              "        0.        , 0.        , 0.        , 0.70710678],\n",
              "       [0.        , 0.        , 0.        , 0.        , 0.        ,\n",
              "        0.        , 0.        , 0.        , 0.        , 0.        ,\n",
              "        0.        , 0.        , 0.        , 0.        ],\n",
              "       [0.        , 0.        , 0.        , 0.        , 0.        ,\n",
              "        0.        , 0.        , 0.        , 0.        , 0.        ,\n",
              "        0.        , 0.        , 0.        , 0.        ],\n",
              "       [0.        , 0.        , 0.        , 0.        , 0.        ,\n",
              "        0.        , 0.        , 0.        , 0.        , 0.        ,\n",
              "        0.        , 0.        , 0.        , 0.        ],\n",
              "       [0.        , 0.        , 0.        , 0.        , 0.        ,\n",
              "        0.        , 0.        , 0.        , 0.        , 0.        ,\n",
              "        0.        , 0.        , 0.        , 0.        ]])"
            ]
          },
          "metadata": {},
          "execution_count": 74
        }
      ]
    },
    {
      "cell_type": "markdown",
      "metadata": {
        "id": "IVl_-nf2f_XX"
      },
      "source": [
        "# We have now built the vector space model. The above matrix represents the TF-IDF for the vectors."
      ]
    },
    {
      "cell_type": "code",
      "metadata": {
        "id": "LtIFRCa0gdmf"
      },
      "source": [
        "X = np.array(X)"
      ],
      "execution_count": 67,
      "outputs": []
    },
    {
      "cell_type": "code",
      "metadata": {
        "id": "OZL0TYhng0p2"
      },
      "source": [
        "types=df1.iloc[:,1]"
      ],
      "execution_count": 75,
      "outputs": []
    },
    {
      "cell_type": "code",
      "metadata": {
        "id": "Ty-rNOkbhdOX"
      },
      "source": [
        "y=[]"
      ],
      "execution_count": 76,
      "outputs": []
    },
    {
      "cell_type": "code",
      "metadata": {
        "id": "HxYjEOJxhCkV"
      },
      "source": [
        "for i in types:\n",
        "  if(i=='spam'):\n",
        "    y.append(1)\n",
        "  else:\n",
        "    y.append(0)"
      ],
      "execution_count": 77,
      "outputs": []
    },
    {
      "cell_type": "code",
      "metadata": {
        "id": "0HR8xlbrhh4b"
      },
      "source": [
        "y = np.array(y)"
      ],
      "execution_count": 78,
      "outputs": []
    },
    {
      "cell_type": "code",
      "metadata": {
        "id": "pIImAewijJVm"
      },
      "source": [
        "from sklearn.model_selection import train_test_split"
      ],
      "execution_count": 79,
      "outputs": []
    },
    {
      "cell_type": "code",
      "metadata": {
        "id": "7GDkCiHFjJ-4"
      },
      "source": [
        "x_train, x_test, y_train, y_test = train_test_split(X, y, test_size = 0.2, random_state = 0)"
      ],
      "execution_count": 81,
      "outputs": []
    },
    {
      "cell_type": "code",
      "metadata": {
        "id": "2KTYHmCvhnm2"
      },
      "source": [
        "from sklearn.linear_model import LogisticRegression\n",
        "regressor = LogisticRegression(random_state=0)\n"
      ],
      "execution_count": 72,
      "outputs": []
    },
    {
      "cell_type": "code",
      "metadata": {
        "colab": {
          "base_uri": "https://localhost:8080/"
        },
        "id": "Q4b-2y-SiBWd",
        "outputId": "4227de43-2079-49b1-ccdf-289fa170244c"
      },
      "source": [
        "regressor.fit(x_train,y_train)"
      ],
      "execution_count": 83,
      "outputs": [
        {
          "output_type": "execute_result",
          "data": {
            "text/plain": [
              "LogisticRegression(C=1.0, class_weight=None, dual=False, fit_intercept=True,\n",
              "                   intercept_scaling=1, l1_ratio=None, max_iter=100,\n",
              "                   multi_class='auto', n_jobs=None, penalty='l2',\n",
              "                   random_state=0, solver='lbfgs', tol=0.0001, verbose=0,\n",
              "                   warm_start=False)"
            ]
          },
          "metadata": {},
          "execution_count": 83
        }
      ]
    },
    {
      "cell_type": "code",
      "metadata": {
        "id": "MG8bqgULjAyg"
      },
      "source": [
        "y_pred=regressor.predict(x_test)"
      ],
      "execution_count": 84,
      "outputs": []
    },
    {
      "cell_type": "code",
      "metadata": {
        "colab": {
          "base_uri": "https://localhost:8080/"
        },
        "id": "w8SCgmo_jt_9",
        "outputId": "72f51c9c-fda8-4adf-b29e-c7ffcded6e37"
      },
      "source": [
        "y_pred"
      ],
      "execution_count": 85,
      "outputs": [
        {
          "output_type": "execute_result",
          "data": {
            "text/plain": [
              "array([1, 1])"
            ]
          },
          "metadata": {},
          "execution_count": 85
        }
      ]
    },
    {
      "cell_type": "code",
      "metadata": {
        "colab": {
          "base_uri": "https://localhost:8080/"
        },
        "id": "Tsg1i2t3jvDc",
        "outputId": "754e1acc-9f2f-480f-a2d8-7bc7c2bbad21"
      },
      "source": [
        "y_test"
      ],
      "execution_count": 86,
      "outputs": [
        {
          "output_type": "execute_result",
          "data": {
            "text/plain": [
              "array([1, 0])"
            ]
          },
          "metadata": {},
          "execution_count": 86
        }
      ]
    },
    {
      "cell_type": "markdown",
      "metadata": {
        "id": "d75C05s6jx80"
      },
      "source": [
        "#The model is trained. The accuracy is below normal. But can be improved with more data."
      ]
    },
    {
      "cell_type": "markdown",
      "metadata": {
        "id": "kL1D4BoHj4kY"
      },
      "source": [
        "Let us use a new set of test data."
      ]
    },
    {
      "cell_type": "code",
      "metadata": {
        "id": "sZCfslRPj3nU"
      },
      "source": [
        "df_test = pd.read_csv('/content/Email Test - Sheet1 (1).csv')"
      ],
      "execution_count": 92,
      "outputs": []
    },
    {
      "cell_type": "code",
      "metadata": {
        "colab": {
          "base_uri": "https://localhost:8080/"
        },
        "id": "rvPf5Yurly9P",
        "outputId": "5d3b247a-23f6-461a-e197-5c8bc073e3a9"
      },
      "source": [
        "df_test.shape"
      ],
      "execution_count": 93,
      "outputs": [
        {
          "output_type": "execute_result",
          "data": {
            "text/plain": [
              "(4, 3)"
            ]
          },
          "metadata": {},
          "execution_count": 93
        }
      ]
    },
    {
      "cell_type": "code",
      "metadata": {
        "id": "tcLjPoF-l4Fb"
      },
      "source": [
        "X=df_test.iloc[:,2]"
      ],
      "execution_count": 95,
      "outputs": []
    },
    {
      "cell_type": "code",
      "metadata": {
        "id": "NlWlb8UpmK3H"
      },
      "source": [
        "y=df_test.iloc[:,1]"
      ],
      "execution_count": 96,
      "outputs": []
    },
    {
      "cell_type": "code",
      "metadata": {
        "id": "qK6MtG55nVuO"
      },
      "source": [
        "vectorizer_new = TfidfVectorizer(vocabulary=spam_dict)"
      ],
      "execution_count": 110,
      "outputs": []
    },
    {
      "cell_type": "code",
      "metadata": {
        "id": "A7lRAEpRmPuT"
      },
      "source": [
        "X_new = vectorizer_new.fit_transform(X)\n",
        "X_new=csr_matrix(X_new).toarray()"
      ],
      "execution_count": 112,
      "outputs": []
    },
    {
      "cell_type": "code",
      "metadata": {
        "colab": {
          "base_uri": "https://localhost:8080/"
        },
        "id": "Rga8Hn55nCAr",
        "outputId": "48c82456-cc94-4f86-cc8b-09f3e0576602"
      },
      "source": [
        "X_new"
      ],
      "execution_count": 113,
      "outputs": [
        {
          "output_type": "execute_result",
          "data": {
            "text/plain": [
              "array([[0.        , 0.        , 0.        , 0.        , 0.        ,\n",
              "        0.        , 0.        , 0.        , 0.        , 0.        ,\n",
              "        0.        , 0.        , 0.        , 0.        ],\n",
              "       [0.        , 0.        , 0.        , 0.        , 0.        ,\n",
              "        0.        , 0.        , 0.        , 0.        , 0.        ,\n",
              "        0.        , 0.        , 0.        , 0.        ],\n",
              "       [0.        , 0.        , 0.37796447, 0.        , 0.        ,\n",
              "        0.37796447, 0.        , 0.37796447, 0.        , 0.        ,\n",
              "        0.37796447, 0.37796447, 0.37796447, 0.37796447],\n",
              "       [0.        , 0.        , 0.        , 0.        , 0.        ,\n",
              "        0.        , 0.        , 0.        , 0.        , 0.        ,\n",
              "        0.        , 0.        , 0.        , 0.        ]])"
            ]
          },
          "metadata": {},
          "execution_count": 113
        }
      ]
    },
    {
      "cell_type": "code",
      "metadata": {
        "id": "qZaupoMPmoNs"
      },
      "source": [
        "types = []"
      ],
      "execution_count": 114,
      "outputs": []
    },
    {
      "cell_type": "code",
      "metadata": {
        "id": "6NkP4-zimc3P"
      },
      "source": [
        "for i in y:\n",
        "  if(i=='spam'):\n",
        "    types.append(1)\n",
        "  else:\n",
        "    types.append(0)"
      ],
      "execution_count": 115,
      "outputs": []
    },
    {
      "cell_type": "code",
      "metadata": {
        "id": "uS9f92KVmzQq"
      },
      "source": [
        "y_new_pred = regressor.predict(X_new)"
      ],
      "execution_count": 116,
      "outputs": []
    },
    {
      "cell_type": "code",
      "metadata": {
        "colab": {
          "base_uri": "https://localhost:8080/"
        },
        "id": "avk7yJT8m3mi",
        "outputId": "d53def81-e49d-4d36-cf21-7fc84964dc83"
      },
      "source": [
        "y_new_pred"
      ],
      "execution_count": 117,
      "outputs": [
        {
          "output_type": "execute_result",
          "data": {
            "text/plain": [
              "array([1, 1, 1, 1])"
            ]
          },
          "metadata": {},
          "execution_count": 117
        }
      ]
    }
  ]
}